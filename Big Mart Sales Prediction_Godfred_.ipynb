{
 "cells": [
  {
   "cell_type": "markdown",
   "id": "234f62a7",
   "metadata": {},
   "source": [
    "## Sales Prediction for Big Mart Outlets\n",
    "\n",
    "The data scientists at BigMart have collected 2013 sales data for 1559 products across 10 stores in different cities. Also, certain attributes of each product and store have been defined. The aim is to build a predictive model and predict the sales of each product at a particular outlet.\n",
    "<br>\n",
    "\n",
    "Using this model, BigMart will try to understand the properties of products and outlets which play a key role in increasing sales.\n",
    "<br>\n",
    "\n",
    "Please note that the data may have missing values as some stores might not report all the data due to technical glitches. Hence, it will be required to treat them accordingly. \n",
    "\n",
    "###  Data Dictionary\n",
    "We have train (8523) and test (5681) data set, train data set has both input and output variable(s). You need to predict the sales for test data set.\n",
    "<br>\n",
    "\n",
    "**Train file**:  CSV containing the item outlet information with sales value\n",
    "\n",
    "<img src=\"files/1.png\" width=\"700\" height=\"200\">\n",
    "\n",
    "**Test file**: CSV containing item outlet combinations for which sales need to be forecasted\n",
    "\n",
    "<img src=\"files/2.png\" width=\"700\" height=\"200\">\n",
    "\n",
    "**Submission file format**\n",
    "\n",
    "<img src=\"files/3.png\" width=\"700\" height=\"200\">\n",
    "\n",
    "\n",
    "### Evaluation Metric\n",
    "\n",
    "Your model performance will be evaluated on the basis of your prediction of the sales for the test data (test.csv), which contains similar data-points as train except for the sales to be predicted. Your submission needs to be in the format as shown in sample submission.\n",
    "<br>\n",
    "\n",
    "I have the actual sales for the test dataset, against which your predictions will be evaluated. I will use the Root Mean Square Error value to judge your response.\n",
    "\n",
    "\n"
   ]
  },
  {
   "cell_type": "code",
   "execution_count": 1,
   "id": "ec80f0b1",
   "metadata": {},
   "outputs": [],
   "source": [
    "import pandas as pd \n",
    "import numpy as np\n",
    "import seaborn as sns \n",
    "import matplotlib.pyplot as plt\n",
    "%matplotlib inline\n",
    "import warnings\n",
    "warnings.filterwarnings('ignore')"
   ]
  },
  {
   "cell_type": "code",
   "execution_count": 2,
   "id": "07102d83",
   "metadata": {},
   "outputs": [
    {
     "data": {
      "text/html": [
       "<div>\n",
       "<style scoped>\n",
       "    .dataframe tbody tr th:only-of-type {\n",
       "        vertical-align: middle;\n",
       "    }\n",
       "\n",
       "    .dataframe tbody tr th {\n",
       "        vertical-align: top;\n",
       "    }\n",
       "\n",
       "    .dataframe thead th {\n",
       "        text-align: right;\n",
       "    }\n",
       "</style>\n",
       "<table border=\"1\" class=\"dataframe\">\n",
       "  <thead>\n",
       "    <tr style=\"text-align: right;\">\n",
       "      <th></th>\n",
       "      <th>Item_Identifier</th>\n",
       "      <th>Item_Weight</th>\n",
       "      <th>Item_Fat_Content</th>\n",
       "      <th>Item_Visibility</th>\n",
       "      <th>Item_Type</th>\n",
       "      <th>Item_MRP</th>\n",
       "      <th>Outlet_Identifier</th>\n",
       "      <th>Outlet_Establishment_Year</th>\n",
       "      <th>Outlet_Size</th>\n",
       "      <th>Outlet_Location_Type</th>\n",
       "      <th>Outlet_Type</th>\n",
       "      <th>Item_Outlet_Sales</th>\n",
       "    </tr>\n",
       "  </thead>\n",
       "  <tbody>\n",
       "    <tr>\n",
       "      <th>0</th>\n",
       "      <td>FDJ41</td>\n",
       "      <td>6.850</td>\n",
       "      <td>Low Fat</td>\n",
       "      <td>0.022976</td>\n",
       "      <td>Frozen Foods</td>\n",
       "      <td>261.6594</td>\n",
       "      <td>OUT018</td>\n",
       "      <td>2009</td>\n",
       "      <td>Medium</td>\n",
       "      <td>Tier 3</td>\n",
       "      <td>Supermarket Type2</td>\n",
       "      <td>3401.5722</td>\n",
       "    </tr>\n",
       "    <tr>\n",
       "      <th>1</th>\n",
       "      <td>FDD05</td>\n",
       "      <td>NaN</td>\n",
       "      <td>Low Fat</td>\n",
       "      <td>0.016531</td>\n",
       "      <td>Frozen Foods</td>\n",
       "      <td>122.4098</td>\n",
       "      <td>OUT027</td>\n",
       "      <td>1985</td>\n",
       "      <td>Medium</td>\n",
       "      <td>Tier 3</td>\n",
       "      <td>Supermarket Type3</td>\n",
       "      <td>3012.7450</td>\n",
       "    </tr>\n",
       "    <tr>\n",
       "      <th>2</th>\n",
       "      <td>FDK14</td>\n",
       "      <td>6.980</td>\n",
       "      <td>Low Fat</td>\n",
       "      <td>0.041338</td>\n",
       "      <td>Canned</td>\n",
       "      <td>83.3934</td>\n",
       "      <td>OUT017</td>\n",
       "      <td>2007</td>\n",
       "      <td>NaN</td>\n",
       "      <td>Tier 2</td>\n",
       "      <td>Supermarket Type1</td>\n",
       "      <td>491.3604</td>\n",
       "    </tr>\n",
       "    <tr>\n",
       "      <th>3</th>\n",
       "      <td>FDC26</td>\n",
       "      <td>10.195</td>\n",
       "      <td>Low Fat</td>\n",
       "      <td>0.126383</td>\n",
       "      <td>Canned</td>\n",
       "      <td>112.1886</td>\n",
       "      <td>OUT046</td>\n",
       "      <td>1997</td>\n",
       "      <td>Small</td>\n",
       "      <td>Tier 1</td>\n",
       "      <td>Supermarket Type1</td>\n",
       "      <td>667.1316</td>\n",
       "    </tr>\n",
       "    <tr>\n",
       "      <th>4</th>\n",
       "      <td>FDP25</td>\n",
       "      <td>15.200</td>\n",
       "      <td>Low Fat</td>\n",
       "      <td>0.021251</td>\n",
       "      <td>Canned</td>\n",
       "      <td>216.5824</td>\n",
       "      <td>OUT045</td>\n",
       "      <td>2002</td>\n",
       "      <td>NaN</td>\n",
       "      <td>Tier 2</td>\n",
       "      <td>Supermarket Type1</td>\n",
       "      <td>5241.1776</td>\n",
       "    </tr>\n",
       "    <tr>\n",
       "      <th>5</th>\n",
       "      <td>FDC59</td>\n",
       "      <td>16.700</td>\n",
       "      <td>Regular</td>\n",
       "      <td>0.000000</td>\n",
       "      <td>Starchy Foods</td>\n",
       "      <td>63.6168</td>\n",
       "      <td>OUT049</td>\n",
       "      <td>1999</td>\n",
       "      <td>Medium</td>\n",
       "      <td>Tier 1</td>\n",
       "      <td>Supermarket Type1</td>\n",
       "      <td>1342.2528</td>\n",
       "    </tr>\n",
       "    <tr>\n",
       "      <th>6</th>\n",
       "      <td>NCN06</td>\n",
       "      <td>8.390</td>\n",
       "      <td>Low Fat</td>\n",
       "      <td>0.120497</td>\n",
       "      <td>Household</td>\n",
       "      <td>162.2868</td>\n",
       "      <td>OUT046</td>\n",
       "      <td>1997</td>\n",
       "      <td>Small</td>\n",
       "      <td>Tier 1</td>\n",
       "      <td>Supermarket Type1</td>\n",
       "      <td>2620.5888</td>\n",
       "    </tr>\n",
       "    <tr>\n",
       "      <th>7</th>\n",
       "      <td>NCF06</td>\n",
       "      <td>6.235</td>\n",
       "      <td>Low Fat</td>\n",
       "      <td>0.020198</td>\n",
       "      <td>Household</td>\n",
       "      <td>257.9962</td>\n",
       "      <td>OUT046</td>\n",
       "      <td>1997</td>\n",
       "      <td>Small</td>\n",
       "      <td>Tier 1</td>\n",
       "      <td>Supermarket Type1</td>\n",
       "      <td>517.9924</td>\n",
       "    </tr>\n",
       "    <tr>\n",
       "      <th>8</th>\n",
       "      <td>NCL30</td>\n",
       "      <td>18.100</td>\n",
       "      <td>Low Fat</td>\n",
       "      <td>0.048940</td>\n",
       "      <td>Household</td>\n",
       "      <td>127.5336</td>\n",
       "      <td>OUT046</td>\n",
       "      <td>1997</td>\n",
       "      <td>Small</td>\n",
       "      <td>Tier 1</td>\n",
       "      <td>Supermarket Type1</td>\n",
       "      <td>1789.6704</td>\n",
       "    </tr>\n",
       "    <tr>\n",
       "      <th>9</th>\n",
       "      <td>FDR25</td>\n",
       "      <td>17.000</td>\n",
       "      <td>Regular</td>\n",
       "      <td>0.139522</td>\n",
       "      <td>Canned</td>\n",
       "      <td>266.8884</td>\n",
       "      <td>OUT046</td>\n",
       "      <td>1997</td>\n",
       "      <td>Small</td>\n",
       "      <td>Tier 1</td>\n",
       "      <td>Supermarket Type1</td>\n",
       "      <td>5034.7796</td>\n",
       "    </tr>\n",
       "    <tr>\n",
       "      <th>10</th>\n",
       "      <td>FDS13</td>\n",
       "      <td>NaN</td>\n",
       "      <td>Low Fat</td>\n",
       "      <td>0.217994</td>\n",
       "      <td>Canned</td>\n",
       "      <td>266.5884</td>\n",
       "      <td>OUT019</td>\n",
       "      <td>1985</td>\n",
       "      <td>Small</td>\n",
       "      <td>Tier 1</td>\n",
       "      <td>Grocery Store</td>\n",
       "      <td>1324.9420</td>\n",
       "    </tr>\n",
       "    <tr>\n",
       "      <th>11</th>\n",
       "      <td>FDX40</td>\n",
       "      <td>12.850</td>\n",
       "      <td>Low Fat</td>\n",
       "      <td>0.099194</td>\n",
       "      <td>Frozen Foods</td>\n",
       "      <td>38.1164</td>\n",
       "      <td>OUT045</td>\n",
       "      <td>2002</td>\n",
       "      <td>NaN</td>\n",
       "      <td>Tier 2</td>\n",
       "      <td>Supermarket Type1</td>\n",
       "      <td>656.4788</td>\n",
       "    </tr>\n",
       "    <tr>\n",
       "      <th>12</th>\n",
       "      <td>FDT50</td>\n",
       "      <td>6.750</td>\n",
       "      <td>Regular</td>\n",
       "      <td>0.108219</td>\n",
       "      <td>Dairy</td>\n",
       "      <td>96.3752</td>\n",
       "      <td>OUT035</td>\n",
       "      <td>2004</td>\n",
       "      <td>Small</td>\n",
       "      <td>Tier 2</td>\n",
       "      <td>Supermarket Type1</td>\n",
       "      <td>1342.2528</td>\n",
       "    </tr>\n",
       "    <tr>\n",
       "      <th>13</th>\n",
       "      <td>NCS54</td>\n",
       "      <td>13.600</td>\n",
       "      <td>LF</td>\n",
       "      <td>0.010034</td>\n",
       "      <td>Household</td>\n",
       "      <td>177.9370</td>\n",
       "      <td>OUT018</td>\n",
       "      <td>2009</td>\n",
       "      <td>Medium</td>\n",
       "      <td>Tier 3</td>\n",
       "      <td>Supermarket Type2</td>\n",
       "      <td>2293.6810</td>\n",
       "    </tr>\n",
       "    <tr>\n",
       "      <th>14</th>\n",
       "      <td>FDA35</td>\n",
       "      <td>14.850</td>\n",
       "      <td>Regular</td>\n",
       "      <td>0.054142</td>\n",
       "      <td>Baking Goods</td>\n",
       "      <td>124.1072</td>\n",
       "      <td>OUT017</td>\n",
       "      <td>2007</td>\n",
       "      <td>NaN</td>\n",
       "      <td>Tier 2</td>\n",
       "      <td>Supermarket Type1</td>\n",
       "      <td>1837.6080</td>\n",
       "    </tr>\n",
       "    <tr>\n",
       "      <th>15</th>\n",
       "      <td>NCN55</td>\n",
       "      <td>14.600</td>\n",
       "      <td>Low Fat</td>\n",
       "      <td>0.059733</td>\n",
       "      <td>Others</td>\n",
       "      <td>241.2538</td>\n",
       "      <td>OUT018</td>\n",
       "      <td>2009</td>\n",
       "      <td>Medium</td>\n",
       "      <td>Tier 3</td>\n",
       "      <td>Supermarket Type2</td>\n",
       "      <td>5287.7836</td>\n",
       "    </tr>\n",
       "    <tr>\n",
       "      <th>16</th>\n",
       "      <td>DRE49</td>\n",
       "      <td>20.750</td>\n",
       "      <td>Low Fat</td>\n",
       "      <td>0.021293</td>\n",
       "      <td>Soft Drinks</td>\n",
       "      <td>151.9024</td>\n",
       "      <td>OUT045</td>\n",
       "      <td>2002</td>\n",
       "      <td>NaN</td>\n",
       "      <td>Tier 2</td>\n",
       "      <td>Supermarket Type1</td>\n",
       "      <td>2732.4432</td>\n",
       "    </tr>\n",
       "    <tr>\n",
       "      <th>17</th>\n",
       "      <td>NCL31</td>\n",
       "      <td>7.390</td>\n",
       "      <td>Low Fat</td>\n",
       "      <td>0.120258</td>\n",
       "      <td>Others</td>\n",
       "      <td>141.5470</td>\n",
       "      <td>OUT035</td>\n",
       "      <td>2004</td>\n",
       "      <td>Small</td>\n",
       "      <td>Tier 2</td>\n",
       "      <td>Supermarket Type1</td>\n",
       "      <td>2290.3520</td>\n",
       "    </tr>\n",
       "    <tr>\n",
       "      <th>18</th>\n",
       "      <td>FDB56</td>\n",
       "      <td>8.750</td>\n",
       "      <td>Regular</td>\n",
       "      <td>0.074613</td>\n",
       "      <td>Fruits and Vegetables</td>\n",
       "      <td>187.4556</td>\n",
       "      <td>OUT035</td>\n",
       "      <td>2004</td>\n",
       "      <td>Small</td>\n",
       "      <td>Tier 2</td>\n",
       "      <td>Supermarket Type1</td>\n",
       "      <td>3755.1120</td>\n",
       "    </tr>\n",
       "    <tr>\n",
       "      <th>19</th>\n",
       "      <td>NCQ53</td>\n",
       "      <td>17.600</td>\n",
       "      <td>Low Fat</td>\n",
       "      <td>0.018905</td>\n",
       "      <td>Health and Hygiene</td>\n",
       "      <td>234.6590</td>\n",
       "      <td>OUT046</td>\n",
       "      <td>1997</td>\n",
       "      <td>Small</td>\n",
       "      <td>Tier 1</td>\n",
       "      <td>Supermarket Type1</td>\n",
       "      <td>8508.9240</td>\n",
       "    </tr>\n",
       "  </tbody>\n",
       "</table>\n",
       "</div>"
      ],
      "text/plain": [
       "   Item_Identifier  Item_Weight Item_Fat_Content  Item_Visibility  \\\n",
       "0            FDJ41        6.850          Low Fat         0.022976   \n",
       "1            FDD05          NaN          Low Fat         0.016531   \n",
       "2            FDK14        6.980          Low Fat         0.041338   \n",
       "3            FDC26       10.195          Low Fat         0.126383   \n",
       "4            FDP25       15.200          Low Fat         0.021251   \n",
       "5            FDC59       16.700          Regular         0.000000   \n",
       "6            NCN06        8.390          Low Fat         0.120497   \n",
       "7            NCF06        6.235          Low Fat         0.020198   \n",
       "8            NCL30       18.100          Low Fat         0.048940   \n",
       "9            FDR25       17.000          Regular         0.139522   \n",
       "10           FDS13          NaN          Low Fat         0.217994   \n",
       "11           FDX40       12.850          Low Fat         0.099194   \n",
       "12           FDT50        6.750          Regular         0.108219   \n",
       "13           NCS54       13.600               LF         0.010034   \n",
       "14           FDA35       14.850          Regular         0.054142   \n",
       "15           NCN55       14.600          Low Fat         0.059733   \n",
       "16           DRE49       20.750          Low Fat         0.021293   \n",
       "17           NCL31        7.390          Low Fat         0.120258   \n",
       "18           FDB56        8.750          Regular         0.074613   \n",
       "19           NCQ53       17.600          Low Fat         0.018905   \n",
       "\n",
       "                Item_Type  Item_MRP Outlet_Identifier  \\\n",
       "0            Frozen Foods  261.6594            OUT018   \n",
       "1            Frozen Foods  122.4098            OUT027   \n",
       "2                  Canned   83.3934            OUT017   \n",
       "3                  Canned  112.1886            OUT046   \n",
       "4                  Canned  216.5824            OUT045   \n",
       "5           Starchy Foods   63.6168            OUT049   \n",
       "6               Household  162.2868            OUT046   \n",
       "7               Household  257.9962            OUT046   \n",
       "8               Household  127.5336            OUT046   \n",
       "9                  Canned  266.8884            OUT046   \n",
       "10                 Canned  266.5884            OUT019   \n",
       "11           Frozen Foods   38.1164            OUT045   \n",
       "12                  Dairy   96.3752            OUT035   \n",
       "13              Household  177.9370            OUT018   \n",
       "14           Baking Goods  124.1072            OUT017   \n",
       "15                 Others  241.2538            OUT018   \n",
       "16            Soft Drinks  151.9024            OUT045   \n",
       "17                 Others  141.5470            OUT035   \n",
       "18  Fruits and Vegetables  187.4556            OUT035   \n",
       "19     Health and Hygiene  234.6590            OUT046   \n",
       "\n",
       "    Outlet_Establishment_Year Outlet_Size Outlet_Location_Type  \\\n",
       "0                        2009      Medium               Tier 3   \n",
       "1                        1985      Medium               Tier 3   \n",
       "2                        2007         NaN               Tier 2   \n",
       "3                        1997       Small               Tier 1   \n",
       "4                        2002         NaN               Tier 2   \n",
       "5                        1999      Medium               Tier 1   \n",
       "6                        1997       Small               Tier 1   \n",
       "7                        1997       Small               Tier 1   \n",
       "8                        1997       Small               Tier 1   \n",
       "9                        1997       Small               Tier 1   \n",
       "10                       1985       Small               Tier 1   \n",
       "11                       2002         NaN               Tier 2   \n",
       "12                       2004       Small               Tier 2   \n",
       "13                       2009      Medium               Tier 3   \n",
       "14                       2007         NaN               Tier 2   \n",
       "15                       2009      Medium               Tier 3   \n",
       "16                       2002         NaN               Tier 2   \n",
       "17                       2004       Small               Tier 2   \n",
       "18                       2004       Small               Tier 2   \n",
       "19                       1997       Small               Tier 1   \n",
       "\n",
       "          Outlet_Type  Item_Outlet_Sales  \n",
       "0   Supermarket Type2          3401.5722  \n",
       "1   Supermarket Type3          3012.7450  \n",
       "2   Supermarket Type1           491.3604  \n",
       "3   Supermarket Type1           667.1316  \n",
       "4   Supermarket Type1          5241.1776  \n",
       "5   Supermarket Type1          1342.2528  \n",
       "6   Supermarket Type1          2620.5888  \n",
       "7   Supermarket Type1           517.9924  \n",
       "8   Supermarket Type1          1789.6704  \n",
       "9   Supermarket Type1          5034.7796  \n",
       "10      Grocery Store          1324.9420  \n",
       "11  Supermarket Type1           656.4788  \n",
       "12  Supermarket Type1          1342.2528  \n",
       "13  Supermarket Type2          2293.6810  \n",
       "14  Supermarket Type1          1837.6080  \n",
       "15  Supermarket Type2          5287.7836  \n",
       "16  Supermarket Type1          2732.4432  \n",
       "17  Supermarket Type1          2290.3520  \n",
       "18  Supermarket Type1          3755.1120  \n",
       "19  Supermarket Type1          8508.9240  "
      ]
     },
     "execution_count": 2,
     "metadata": {},
     "output_type": "execute_result"
    }
   ],
   "source": [
    "train = pd.read_csv('train.csv')\n",
    "train.head(20)"
   ]
  },
  {
   "cell_type": "markdown",
   "id": "86bb2dbd",
   "metadata": {},
   "source": [
    "### Checking statistical information of the data"
   ]
  },
  {
   "cell_type": "code",
   "execution_count": 3,
   "id": "7e6fc143",
   "metadata": {},
   "outputs": [
    {
     "data": {
      "text/html": [
       "<div>\n",
       "<style scoped>\n",
       "    .dataframe tbody tr th:only-of-type {\n",
       "        vertical-align: middle;\n",
       "    }\n",
       "\n",
       "    .dataframe tbody tr th {\n",
       "        vertical-align: top;\n",
       "    }\n",
       "\n",
       "    .dataframe thead th {\n",
       "        text-align: right;\n",
       "    }\n",
       "</style>\n",
       "<table border=\"1\" class=\"dataframe\">\n",
       "  <thead>\n",
       "    <tr style=\"text-align: right;\">\n",
       "      <th></th>\n",
       "      <th>Item_Weight</th>\n",
       "      <th>Item_Visibility</th>\n",
       "      <th>Item_MRP</th>\n",
       "      <th>Outlet_Establishment_Year</th>\n",
       "      <th>Item_Outlet_Sales</th>\n",
       "    </tr>\n",
       "  </thead>\n",
       "  <tbody>\n",
       "    <tr>\n",
       "      <th>count</th>\n",
       "      <td>6708.000000</td>\n",
       "      <td>8096.000000</td>\n",
       "      <td>8096.000000</td>\n",
       "      <td>8096.000000</td>\n",
       "      <td>8096.000000</td>\n",
       "    </tr>\n",
       "    <tr>\n",
       "      <th>mean</th>\n",
       "      <td>12.852244</td>\n",
       "      <td>0.065988</td>\n",
       "      <td>141.047405</td>\n",
       "      <td>1997.832633</td>\n",
       "      <td>2186.691891</td>\n",
       "    </tr>\n",
       "    <tr>\n",
       "      <th>std</th>\n",
       "      <td>4.644016</td>\n",
       "      <td>0.051528</td>\n",
       "      <td>62.218486</td>\n",
       "      <td>8.368403</td>\n",
       "      <td>1708.274124</td>\n",
       "    </tr>\n",
       "    <tr>\n",
       "      <th>min</th>\n",
       "      <td>4.555000</td>\n",
       "      <td>0.000000</td>\n",
       "      <td>31.290000</td>\n",
       "      <td>1985.000000</td>\n",
       "      <td>33.290000</td>\n",
       "    </tr>\n",
       "    <tr>\n",
       "      <th>25%</th>\n",
       "      <td>8.760000</td>\n",
       "      <td>0.026985</td>\n",
       "      <td>94.046200</td>\n",
       "      <td>1987.000000</td>\n",
       "      <td>834.580300</td>\n",
       "    </tr>\n",
       "    <tr>\n",
       "      <th>50%</th>\n",
       "      <td>12.600000</td>\n",
       "      <td>0.053730</td>\n",
       "      <td>143.215400</td>\n",
       "      <td>1999.000000</td>\n",
       "      <td>1804.650900</td>\n",
       "    </tr>\n",
       "    <tr>\n",
       "      <th>75%</th>\n",
       "      <td>16.750000</td>\n",
       "      <td>0.094251</td>\n",
       "      <td>185.668700</td>\n",
       "      <td>2004.000000</td>\n",
       "      <td>3106.955700</td>\n",
       "    </tr>\n",
       "    <tr>\n",
       "      <th>max</th>\n",
       "      <td>21.350000</td>\n",
       "      <td>0.328391</td>\n",
       "      <td>266.888400</td>\n",
       "      <td>2009.000000</td>\n",
       "      <td>13086.964800</td>\n",
       "    </tr>\n",
       "  </tbody>\n",
       "</table>\n",
       "</div>"
      ],
      "text/plain": [
       "       Item_Weight  Item_Visibility     Item_MRP  Outlet_Establishment_Year  \\\n",
       "count  6708.000000      8096.000000  8096.000000                8096.000000   \n",
       "mean     12.852244         0.065988   141.047405                1997.832633   \n",
       "std       4.644016         0.051528    62.218486                   8.368403   \n",
       "min       4.555000         0.000000    31.290000                1985.000000   \n",
       "25%       8.760000         0.026985    94.046200                1987.000000   \n",
       "50%      12.600000         0.053730   143.215400                1999.000000   \n",
       "75%      16.750000         0.094251   185.668700                2004.000000   \n",
       "max      21.350000         0.328391   266.888400                2009.000000   \n",
       "\n",
       "       Item_Outlet_Sales  \n",
       "count        8096.000000  \n",
       "mean         2186.691891  \n",
       "std          1708.274124  \n",
       "min            33.290000  \n",
       "25%           834.580300  \n",
       "50%          1804.650900  \n",
       "75%          3106.955700  \n",
       "max         13086.964800  "
      ]
     },
     "execution_count": 3,
     "metadata": {},
     "output_type": "execute_result"
    }
   ],
   "source": [
    "train.describe()"
   ]
  },
  {
   "cell_type": "markdown",
   "id": "b7552046",
   "metadata": {},
   "source": [
    "### Checking Feature datatypes"
   ]
  },
  {
   "cell_type": "code",
   "execution_count": 4,
   "id": "d143d1c3",
   "metadata": {},
   "outputs": [
    {
     "name": "stdout",
     "output_type": "stream",
     "text": [
      "<class 'pandas.core.frame.DataFrame'>\n",
      "RangeIndex: 8096 entries, 0 to 8095\n",
      "Data columns (total 12 columns):\n",
      " #   Column                     Non-Null Count  Dtype  \n",
      "---  ------                     --------------  -----  \n",
      " 0   Item_Identifier            8096 non-null   object \n",
      " 1   Item_Weight                6708 non-null   float64\n",
      " 2   Item_Fat_Content           8096 non-null   object \n",
      " 3   Item_Visibility            8096 non-null   float64\n",
      " 4   Item_Type                  8096 non-null   object \n",
      " 5   Item_MRP                   8096 non-null   float64\n",
      " 6   Outlet_Identifier          8096 non-null   object \n",
      " 7   Outlet_Establishment_Year  8096 non-null   int64  \n",
      " 8   Outlet_Size                5807 non-null   object \n",
      " 9   Outlet_Location_Type       8096 non-null   object \n",
      " 10  Outlet_Type                8096 non-null   object \n",
      " 11  Item_Outlet_Sales          8096 non-null   float64\n",
      "dtypes: float64(4), int64(1), object(7)\n",
      "memory usage: 759.1+ KB\n"
     ]
    }
   ],
   "source": [
    "train.info()"
   ]
  },
  {
   "cell_type": "markdown",
   "id": "1bfe0afb",
   "metadata": {},
   "source": [
    "### Checking the number of Unique values in the Features"
   ]
  },
  {
   "cell_type": "code",
   "execution_count": 5,
   "id": "aeb1f5aa",
   "metadata": {},
   "outputs": [
    {
     "data": {
      "text/plain": [
       "Item_Identifier              1559\n",
       "Item_Weight                   416\n",
       "Item_Fat_Content                5\n",
       "Item_Visibility              7500\n",
       "Item_Type                      16\n",
       "Item_MRP                     5719\n",
       "Outlet_Identifier              10\n",
       "Outlet_Establishment_Year       9\n",
       "Outlet_Size                     4\n",
       "Outlet_Location_Type            3\n",
       "Outlet_Type                     4\n",
       "Item_Outlet_Sales            3425\n",
       "dtype: int64"
      ]
     },
     "execution_count": 5,
     "metadata": {},
     "output_type": "execute_result"
    }
   ],
   "source": [
    "train.apply(lambda x: len(x.unique()))"
   ]
  },
  {
   "cell_type": "markdown",
   "id": "cee99dd0",
   "metadata": {},
   "source": [
    "## Preprocessing of the Data"
   ]
  },
  {
   "cell_type": "markdown",
   "id": "56faaf14",
   "metadata": {},
   "source": [
    "Checking for the Number of Null Values"
   ]
  },
  {
   "cell_type": "code",
   "execution_count": 6,
   "id": "a5c39712",
   "metadata": {},
   "outputs": [
    {
     "data": {
      "text/plain": [
       "Item_Identifier                 0\n",
       "Item_Weight                  1388\n",
       "Item_Fat_Content                0\n",
       "Item_Visibility                 0\n",
       "Item_Type                       0\n",
       "Item_MRP                        0\n",
       "Outlet_Identifier               0\n",
       "Outlet_Establishment_Year       0\n",
       "Outlet_Size                  2289\n",
       "Outlet_Location_Type            0\n",
       "Outlet_Type                     0\n",
       "Item_Outlet_Sales               0\n",
       "dtype: int64"
      ]
     },
     "execution_count": 6,
     "metadata": {},
     "output_type": "execute_result"
    }
   ],
   "source": [
    "train.isnull().sum()"
   ]
  },
  {
   "cell_type": "markdown",
   "id": "bb6065ab",
   "metadata": {},
   "source": [
    "<h3 style='color:blue'>Categorical Attributes"
   ]
  },
  {
   "cell_type": "code",
   "execution_count": 7,
   "id": "55060140",
   "metadata": {},
   "outputs": [
    {
     "data": {
      "text/plain": [
       "['Item_Identifier',\n",
       " 'Item_Fat_Content',\n",
       " 'Item_Type',\n",
       " 'Outlet_Identifier',\n",
       " 'Outlet_Size',\n",
       " 'Outlet_Location_Type',\n",
       " 'Outlet_Type']"
      ]
     },
     "execution_count": 7,
     "metadata": {},
     "output_type": "execute_result"
    }
   ],
   "source": [
    "cat_col = []\n",
    "for x in train.dtypes.index:\n",
    "    if train.dtypes[x]=='object':\n",
    "        cat_col.append(x)\n",
    "cat_col"
   ]
  },
  {
   "cell_type": "code",
   "execution_count": 8,
   "id": "9fb8c1c3",
   "metadata": {},
   "outputs": [],
   "source": [
    "cat = [ x for x in train.dtypes.index if train.dtypes[x]=='object']"
   ]
  },
  {
   "cell_type": "code",
   "execution_count": 9,
   "id": "6d690a1e",
   "metadata": {},
   "outputs": [],
   "source": [
    "cat.remove('Item_Identifier')\n",
    "cat.remove('Outlet_Identifier')"
   ]
  },
  {
   "cell_type": "code",
   "execution_count": 10,
   "id": "78a48992",
   "metadata": {},
   "outputs": [
    {
     "data": {
      "text/plain": [
       "['Item_Fat_Content',\n",
       " 'Item_Type',\n",
       " 'Outlet_Size',\n",
       " 'Outlet_Location_Type',\n",
       " 'Outlet_Type']"
      ]
     },
     "execution_count": 10,
     "metadata": {},
     "output_type": "execute_result"
    }
   ],
   "source": [
    "cat"
   ]
  },
  {
   "cell_type": "markdown",
   "id": "a9c64ff6",
   "metadata": {},
   "source": [
    "<h3> printing Categorical values in the Categorical Features"
   ]
  },
  {
   "cell_type": "code",
   "execution_count": 11,
   "id": "b8584a8e",
   "metadata": {},
   "outputs": [
    {
     "name": "stdout",
     "output_type": "stream",
     "text": [
      "Item_Fat_Content\n",
      "Low Fat    4828\n",
      "Regular    2764\n",
      "LF          291\n",
      "reg         107\n",
      "low fat     106\n",
      "Name: Item_Fat_Content, dtype: int64 \n",
      "\n",
      "Item_Type\n",
      "Fruits and Vegetables    1184\n",
      "Snack Foods              1143\n",
      "Household                 862\n",
      "Frozen Foods              806\n",
      "Dairy                     647\n",
      "Canned                    627\n",
      "Baking Goods              613\n",
      "Health and Hygiene        482\n",
      "Soft Drinks               416\n",
      "Meat                      403\n",
      "Breads                    240\n",
      "Hard Drinks               206\n",
      "Others                    160\n",
      "Starchy Foods             142\n",
      "Breakfast                 103\n",
      "Seafood                    62\n",
      "Name: Item_Type, dtype: int64 \n",
      "\n",
      "Outlet_Size\n",
      "Medium    2643\n",
      "Small     2278\n",
      "High       886\n",
      "Name: Outlet_Size, dtype: int64 \n",
      "\n",
      "Outlet_Location_Type\n",
      "Tier 3    3160\n",
      "Tier 2    2660\n",
      "Tier 1    2276\n",
      "Name: Outlet_Location_Type, dtype: int64 \n",
      "\n",
      "Outlet_Type\n",
      "Supermarket Type1    5323\n",
      "Grocery Store        1013\n",
      "Supermarket Type3     889\n",
      "Supermarket Type2     871\n",
      "Name: Outlet_Type, dtype: int64 \n",
      "\n"
     ]
    }
   ],
   "source": [
    "for col in cat:\n",
    "    print(col)\n",
    "    print(train[col].value_counts(), '\\n')\n",
    "    "
   ]
  },
  {
   "cell_type": "markdown",
   "id": "48fc4b09",
   "metadata": {},
   "source": [
    "#### Identifying and Filling the Null Values"
   ]
  },
  {
   "cell_type": "code",
   "execution_count": 12,
   "id": "7f70f54f",
   "metadata": {},
   "outputs": [
    {
     "data": {
      "text/plain": [
       "<AxesSubplot:>"
      ]
     },
     "execution_count": 12,
     "metadata": {},
     "output_type": "execute_result"
    },
    {
     "data": {
      "image/png": "[encoded data removed]",
      "text/plain": [
       "<Figure size 1008x504 with 1 Axes>"
      ]
     },
     "metadata": {
      "needs_background": "light"
     },
     "output_type": "display_data"
    }
   ],
   "source": [
    "plt.figure(figsize=(14,7))\n",
    "sns.heatmap(train.isnull(), yticklabels =False, cbar = False, cmap = 'viridis' )"
   ]
  },
  {
   "cell_type": "code",
   "execution_count": 13,
   "id": "86f1648c",
   "metadata": {},
   "outputs": [
    {
     "data": {
      "text/plain": [
       "False    6708\n",
       "True     1388\n",
       "Name: Item_Weight, dtype: int64"
      ]
     },
     "execution_count": 13,
     "metadata": {},
     "output_type": "execute_result"
    }
   ],
   "source": [
    "train.Item_Weight.isnull().value_counts()"
   ]
  },
  {
   "cell_type": "code",
   "execution_count": 14,
   "id": "241ad09c",
   "metadata": {},
   "outputs": [
    {
     "data": {
      "text/plain": [
       "0    12.15\n",
       "dtype: float64"
      ]
     },
     "execution_count": 14,
     "metadata": {},
     "output_type": "execute_result"
    }
   ],
   "source": [
    "train.Item_Weight.mode()"
   ]
  },
  {
   "cell_type": "code",
   "execution_count": 15,
   "id": "8abac95e",
   "metadata": {},
   "outputs": [
    {
     "data": {
      "text/plain": [
       "12.852244335122377"
      ]
     },
     "execution_count": 15,
     "metadata": {},
     "output_type": "execute_result"
    }
   ],
   "source": [
    "train.Item_Weight.mean()"
   ]
  },
  {
   "cell_type": "code",
   "execution_count": null,
   "id": "35738d59",
   "metadata": {},
   "outputs": [],
   "source": []
  },
  {
   "cell_type": "code",
   "execution_count": 16,
   "id": "ff85b628",
   "metadata": {},
   "outputs": [],
   "source": [
    "train['Item_Weight'].fillna(12.852244335122377, inplace = True)"
   ]
  },
  {
   "cell_type": "code",
   "execution_count": 17,
   "id": "69f2046e",
   "metadata": {},
   "outputs": [
    {
     "data": {
      "text/plain": [
       "<AxesSubplot:>"
      ]
     },
     "execution_count": 17,
     "metadata": {},
     "output_type": "execute_result"
    },
    {
     "data": {
      "image/png": "[encoded data removed]",
      "text/plain": [
       "<Figure size 1008x504 with 1 Axes>"
      ]
     },
     "metadata": {
      "needs_background": "light"
     },
     "output_type": "display_data"
    }
   ],
   "source": [
    "plt.figure(figsize=(14,7))\n",
    "sns.heatmap(train.isnull(), yticklabels =False, cbar = False, cmap = 'viridis' )"
   ]
  },
  {
   "cell_type": "code",
   "execution_count": 18,
   "id": "8e74955a",
   "metadata": {},
   "outputs": [
    {
     "data": {
      "text/plain": [
       "array(['Medium', nan, 'Small', 'High'], dtype=object)"
      ]
     },
     "execution_count": 18,
     "metadata": {},
     "output_type": "execute_result"
    }
   ],
   "source": [
    "train.Outlet_Size.unique()"
   ]
  },
  {
   "cell_type": "code",
   "execution_count": 19,
   "id": "816ed3c7",
   "metadata": {},
   "outputs": [
    {
     "data": {
      "text/plain": [
       "0    Medium\n",
       "dtype: object"
      ]
     },
     "execution_count": 19,
     "metadata": {},
     "output_type": "execute_result"
    }
   ],
   "source": [
    "train.Outlet_Size.mode()"
   ]
  },
  {
   "cell_type": "code",
   "execution_count": 20,
   "id": "f4c9e62a",
   "metadata": {},
   "outputs": [],
   "source": [
    "train['Outlet_Size'] = train.Outlet_Size.fillna('Medium')"
   ]
  },
  {
   "cell_type": "code",
   "execution_count": 21,
   "id": "56bf3c24",
   "metadata": {},
   "outputs": [
    {
     "data": {
      "text/plain": [
       "array(['Medium', 'Small', 'High'], dtype=object)"
      ]
     },
     "execution_count": 21,
     "metadata": {},
     "output_type": "execute_result"
    }
   ],
   "source": [
    "train.Outlet_Size.unique()"
   ]
  },
  {
   "cell_type": "code",
   "execution_count": 22,
   "id": "67806b21",
   "metadata": {},
   "outputs": [
    {
     "data": {
      "text/plain": [
       "Medium    4932\n",
       "Small     2278\n",
       "High       886\n",
       "Name: Outlet_Size, dtype: int64"
      ]
     },
     "execution_count": 22,
     "metadata": {},
     "output_type": "execute_result"
    }
   ],
   "source": [
    "train.Outlet_Size.value_counts()"
   ]
  },
  {
   "cell_type": "code",
   "execution_count": 23,
   "id": "f2315cf2",
   "metadata": {},
   "outputs": [
    {
     "data": {
      "text/plain": [
       "3"
      ]
     },
     "execution_count": 23,
     "metadata": {},
     "output_type": "execute_result"
    }
   ],
   "source": [
    "train['Outlet_Size'].nunique()"
   ]
  },
  {
   "cell_type": "code",
   "execution_count": 24,
   "id": "b4358397",
   "metadata": {},
   "outputs": [
    {
     "data": {
      "text/plain": [
       "<AxesSubplot:>"
      ]
     },
     "execution_count": 24,
     "metadata": {},
     "output_type": "execute_result"
    },
    {
     "data": {
      "image/png": "[encoded data removed]",
      "text/plain": [
       "<Figure size 1008x504 with 1 Axes>"
      ]
     },
     "metadata": {
      "needs_background": "light"
     },
     "output_type": "display_data"
    }
   ],
   "source": [
    "plt.figure(figsize=(14,7))\n",
    "sns.heatmap(train.isnull(), yticklabels =False, cbar = False, cmap = 'viridis' )"
   ]
  },
  {
   "cell_type": "code",
   "execution_count": 25,
   "id": "78bd70b4",
   "metadata": {},
   "outputs": [
    {
     "data": {
      "text/plain": [
       "492"
      ]
     },
     "execution_count": 25,
     "metadata": {},
     "output_type": "execute_result"
    }
   ],
   "source": [
    "sum(train['Item_Visibility']==0)"
   ]
  },
  {
   "cell_type": "code",
   "execution_count": 26,
   "id": "a8019139",
   "metadata": {},
   "outputs": [
    {
     "data": {
      "text/plain": [
       "0.06598762630274208"
      ]
     },
     "execution_count": 26,
     "metadata": {},
     "output_type": "execute_result"
    }
   ],
   "source": [
    "train.Item_Visibility.mean()"
   ]
  },
  {
   "cell_type": "markdown",
   "id": "4d37ea14",
   "metadata": {},
   "source": [
    "### Replacing 0 values in the Item_Visibility with the Mean Item_Visibility"
   ]
  },
  {
   "cell_type": "code",
   "execution_count": 27,
   "id": "ee2c44b5",
   "metadata": {},
   "outputs": [],
   "source": [
    "train.loc[:, 'Item_Visibility'].replace([0], [train['Item_Visibility'].mean()], inplace  = True)"
   ]
  },
  {
   "cell_type": "code",
   "execution_count": 28,
   "id": "d6550742",
   "metadata": {},
   "outputs": [
    {
     "data": {
      "text/plain": [
       "0"
      ]
     },
     "execution_count": 28,
     "metadata": {},
     "output_type": "execute_result"
    }
   ],
   "source": [
    "sum(train['Item_Visibility']==0)"
   ]
  },
  {
   "cell_type": "markdown",
   "id": "e3168d6a",
   "metadata": {},
   "source": [
    "#### Re-Categoring the Item_Fat_content"
   ]
  },
  {
   "cell_type": "code",
   "execution_count": 29,
   "id": "64a6ec5e",
   "metadata": {},
   "outputs": [],
   "source": [
    "train['Item_Fat_Content'] = train['Item_Fat_Content'].replace({'LF': 'Low Fat','reg':'Regular', 'low fat': 'Low Fat'})"
   ]
  },
  {
   "cell_type": "code",
   "execution_count": 30,
   "id": "bddfc124",
   "metadata": {},
   "outputs": [
    {
     "data": {
      "text/plain": [
       "Low Fat    5225\n",
       "Regular    2871\n",
       "Name: Item_Fat_Content, dtype: int64"
      ]
     },
     "execution_count": 30,
     "metadata": {},
     "output_type": "execute_result"
    }
   ],
   "source": [
    "train.Item_Fat_Content.value_counts()"
   ]
  },
  {
   "cell_type": "markdown",
   "id": "c51fdfc5",
   "metadata": {},
   "source": [
    "### CREATING NEW ATTRIBUTES"
   ]
  },
  {
   "cell_type": "code",
   "execution_count": 31,
   "id": "92c77090",
   "metadata": {},
   "outputs": [
    {
     "data": {
      "text/plain": [
       "0       FD\n",
       "1       FD\n",
       "2       FD\n",
       "3       FD\n",
       "4       FD\n",
       "        ..\n",
       "8091    FD\n",
       "8092    FD\n",
       "8093    FD\n",
       "8094    NC\n",
       "8095    NC\n",
       "Name: New_Item_Type, Length: 8096, dtype: object"
      ]
     },
     "execution_count": 31,
     "metadata": {},
     "output_type": "execute_result"
    }
   ],
   "source": [
    "train['New_Item_Type'] = train['Item_Identifier'].apply(lambda x: x[:2])\n",
    "train['New_Item_Type']"
   ]
  },
  {
   "cell_type": "code",
   "execution_count": 32,
   "id": "21482c0c",
   "metadata": {},
   "outputs": [
    {
     "data": {
      "text/plain": [
       "Food              5836\n",
       "Non-Consumable    1504\n",
       "Drinks             756\n",
       "Name: New_Item_Type, dtype: int64"
      ]
     },
     "execution_count": 32,
     "metadata": {},
     "output_type": "execute_result"
    }
   ],
   "source": [
    "train['New_Item_Type'] = train['New_Item_Type'].map({'FD':'Food', 'NC': 'Non-Consumable','DR': 'Drinks'})\n",
    "train['New_Item_Type'].value_counts()"
   ]
  },
  {
   "cell_type": "markdown",
   "id": "50111610",
   "metadata": {},
   "source": [
    "### Creating new Feature from the establishment year"
   ]
  },
  {
   "cell_type": "code",
   "execution_count": 33,
   "id": "aedb9b99",
   "metadata": {},
   "outputs": [
    {
     "data": {
      "text/plain": [
       "0        4\n",
       "1       28\n",
       "2        6\n",
       "3       16\n",
       "4       11\n",
       "        ..\n",
       "8091    28\n",
       "8092    11\n",
       "8093    28\n",
       "8094    15\n",
       "8095    28\n",
       "Name: Outlet_Years, Length: 8096, dtype: int64"
      ]
     },
     "execution_count": 33,
     "metadata": {},
     "output_type": "execute_result"
    }
   ],
   "source": [
    "train['Outlet_Years'] = 2013 - train['Outlet_Establishment_Year']\n",
    "train['Outlet_Years']"
   ]
  },
  {
   "cell_type": "markdown",
   "id": "c9f83609",
   "metadata": {},
   "source": [
    "## EXPLORATORY DATA ANALYSIS"
   ]
  },
  {
   "cell_type": "code",
   "execution_count": 34,
   "id": "bd9e1625",
   "metadata": {},
   "outputs": [
    {
     "data": {
      "text/html": [
       "<div>\n",
       "<style scoped>\n",
       "    .dataframe tbody tr th:only-of-type {\n",
       "        vertical-align: middle;\n",
       "    }\n",
       "\n",
       "    .dataframe tbody tr th {\n",
       "        vertical-align: top;\n",
       "    }\n",
       "\n",
       "    .dataframe thead th {\n",
       "        text-align: right;\n",
       "    }\n",
       "</style>\n",
       "<table border=\"1\" class=\"dataframe\">\n",
       "  <thead>\n",
       "    <tr style=\"text-align: right;\">\n",
       "      <th></th>\n",
       "      <th>Item_Identifier</th>\n",
       "      <th>Item_Weight</th>\n",
       "      <th>Item_Fat_Content</th>\n",
       "      <th>Item_Visibility</th>\n",
       "      <th>Item_Type</th>\n",
       "      <th>Item_MRP</th>\n",
       "      <th>Outlet_Identifier</th>\n",
       "      <th>Outlet_Establishment_Year</th>\n",
       "      <th>Outlet_Size</th>\n",
       "      <th>Outlet_Location_Type</th>\n",
       "      <th>Outlet_Type</th>\n",
       "      <th>Item_Outlet_Sales</th>\n",
       "      <th>New_Item_Type</th>\n",
       "      <th>Outlet_Years</th>\n",
       "    </tr>\n",
       "  </thead>\n",
       "  <tbody>\n",
       "    <tr>\n",
       "      <th>0</th>\n",
       "      <td>FDJ41</td>\n",
       "      <td>6.850000</td>\n",
       "      <td>Low Fat</td>\n",
       "      <td>0.022976</td>\n",
       "      <td>Frozen Foods</td>\n",
       "      <td>261.6594</td>\n",
       "      <td>OUT018</td>\n",
       "      <td>2009</td>\n",
       "      <td>Medium</td>\n",
       "      <td>Tier 3</td>\n",
       "      <td>Supermarket Type2</td>\n",
       "      <td>3401.5722</td>\n",
       "      <td>Food</td>\n",
       "      <td>4</td>\n",
       "    </tr>\n",
       "    <tr>\n",
       "      <th>1</th>\n",
       "      <td>FDD05</td>\n",
       "      <td>12.852244</td>\n",
       "      <td>Low Fat</td>\n",
       "      <td>0.016531</td>\n",
       "      <td>Frozen Foods</td>\n",
       "      <td>122.4098</td>\n",
       "      <td>OUT027</td>\n",
       "      <td>1985</td>\n",
       "      <td>Medium</td>\n",
       "      <td>Tier 3</td>\n",
       "      <td>Supermarket Type3</td>\n",
       "      <td>3012.7450</td>\n",
       "      <td>Food</td>\n",
       "      <td>28</td>\n",
       "    </tr>\n",
       "    <tr>\n",
       "      <th>2</th>\n",
       "      <td>FDK14</td>\n",
       "      <td>6.980000</td>\n",
       "      <td>Low Fat</td>\n",
       "      <td>0.041338</td>\n",
       "      <td>Canned</td>\n",
       "      <td>83.3934</td>\n",
       "      <td>OUT017</td>\n",
       "      <td>2007</td>\n",
       "      <td>Medium</td>\n",
       "      <td>Tier 2</td>\n",
       "      <td>Supermarket Type1</td>\n",
       "      <td>491.3604</td>\n",
       "      <td>Food</td>\n",
       "      <td>6</td>\n",
       "    </tr>\n",
       "    <tr>\n",
       "      <th>3</th>\n",
       "      <td>FDC26</td>\n",
       "      <td>10.195000</td>\n",
       "      <td>Low Fat</td>\n",
       "      <td>0.126383</td>\n",
       "      <td>Canned</td>\n",
       "      <td>112.1886</td>\n",
       "      <td>OUT046</td>\n",
       "      <td>1997</td>\n",
       "      <td>Small</td>\n",
       "      <td>Tier 1</td>\n",
       "      <td>Supermarket Type1</td>\n",
       "      <td>667.1316</td>\n",
       "      <td>Food</td>\n",
       "      <td>16</td>\n",
       "    </tr>\n",
       "    <tr>\n",
       "      <th>4</th>\n",
       "      <td>FDP25</td>\n",
       "      <td>15.200000</td>\n",
       "      <td>Low Fat</td>\n",
       "      <td>0.021251</td>\n",
       "      <td>Canned</td>\n",
       "      <td>216.5824</td>\n",
       "      <td>OUT045</td>\n",
       "      <td>2002</td>\n",
       "      <td>Medium</td>\n",
       "      <td>Tier 2</td>\n",
       "      <td>Supermarket Type1</td>\n",
       "      <td>5241.1776</td>\n",
       "      <td>Food</td>\n",
       "      <td>11</td>\n",
       "    </tr>\n",
       "    <tr>\n",
       "      <th>...</th>\n",
       "      <td>...</td>\n",
       "      <td>...</td>\n",
       "      <td>...</td>\n",
       "      <td>...</td>\n",
       "      <td>...</td>\n",
       "      <td>...</td>\n",
       "      <td>...</td>\n",
       "      <td>...</td>\n",
       "      <td>...</td>\n",
       "      <td>...</td>\n",
       "      <td>...</td>\n",
       "      <td>...</td>\n",
       "      <td>...</td>\n",
       "      <td>...</td>\n",
       "    </tr>\n",
       "    <tr>\n",
       "      <th>8091</th>\n",
       "      <td>FDR37</td>\n",
       "      <td>12.852244</td>\n",
       "      <td>Regular</td>\n",
       "      <td>0.065929</td>\n",
       "      <td>Breakfast</td>\n",
       "      <td>183.0292</td>\n",
       "      <td>OUT027</td>\n",
       "      <td>1985</td>\n",
       "      <td>Medium</td>\n",
       "      <td>Tier 3</td>\n",
       "      <td>Supermarket Type3</td>\n",
       "      <td>8209.3140</td>\n",
       "      <td>Food</td>\n",
       "      <td>28</td>\n",
       "    </tr>\n",
       "    <tr>\n",
       "      <th>8092</th>\n",
       "      <td>FDE44</td>\n",
       "      <td>14.650000</td>\n",
       "      <td>Low Fat</td>\n",
       "      <td>0.065988</td>\n",
       "      <td>Fruits and Vegetables</td>\n",
       "      <td>49.7692</td>\n",
       "      <td>OUT045</td>\n",
       "      <td>2002</td>\n",
       "      <td>Medium</td>\n",
       "      <td>Tier 2</td>\n",
       "      <td>Supermarket Type1</td>\n",
       "      <td>837.5764</td>\n",
       "      <td>Food</td>\n",
       "      <td>11</td>\n",
       "    </tr>\n",
       "    <tr>\n",
       "      <th>8093</th>\n",
       "      <td>FDR12</td>\n",
       "      <td>12.852244</td>\n",
       "      <td>Regular</td>\n",
       "      <td>0.031382</td>\n",
       "      <td>Baking Goods</td>\n",
       "      <td>171.3764</td>\n",
       "      <td>OUT027</td>\n",
       "      <td>1985</td>\n",
       "      <td>Medium</td>\n",
       "      <td>Tier 3</td>\n",
       "      <td>Supermarket Type3</td>\n",
       "      <td>3091.9752</td>\n",
       "      <td>Food</td>\n",
       "      <td>28</td>\n",
       "    </tr>\n",
       "    <tr>\n",
       "      <th>8094</th>\n",
       "      <td>NCN43</td>\n",
       "      <td>12.150000</td>\n",
       "      <td>Low Fat</td>\n",
       "      <td>0.011314</td>\n",
       "      <td>Others</td>\n",
       "      <td>122.9730</td>\n",
       "      <td>OUT010</td>\n",
       "      <td>1998</td>\n",
       "      <td>Medium</td>\n",
       "      <td>Tier 3</td>\n",
       "      <td>Grocery Store</td>\n",
       "      <td>123.1730</td>\n",
       "      <td>Non-Consumable</td>\n",
       "      <td>15</td>\n",
       "    </tr>\n",
       "    <tr>\n",
       "      <th>8095</th>\n",
       "      <td>NCD54</td>\n",
       "      <td>12.852244</td>\n",
       "      <td>Low Fat</td>\n",
       "      <td>0.050791</td>\n",
       "      <td>Household</td>\n",
       "      <td>142.7786</td>\n",
       "      <td>OUT019</td>\n",
       "      <td>1985</td>\n",
       "      <td>Small</td>\n",
       "      <td>Tier 1</td>\n",
       "      <td>Grocery Store</td>\n",
       "      <td>144.4786</td>\n",
       "      <td>Non-Consumable</td>\n",
       "      <td>28</td>\n",
       "    </tr>\n",
       "  </tbody>\n",
       "</table>\n",
       "<p>8096 rows × 14 columns</p>\n",
       "</div>"
      ],
      "text/plain": [
       "     Item_Identifier  Item_Weight Item_Fat_Content  Item_Visibility  \\\n",
       "0              FDJ41     6.850000          Low Fat         0.022976   \n",
       "1              FDD05    12.852244          Low Fat         0.016531   \n",
       "2              FDK14     6.980000          Low Fat         0.041338   \n",
       "3              FDC26    10.195000          Low Fat         0.126383   \n",
       "4              FDP25    15.200000          Low Fat         0.021251   \n",
       "...              ...          ...              ...              ...   \n",
       "8091           FDR37    12.852244          Regular         0.065929   \n",
       "8092           FDE44    14.650000          Low Fat         0.065988   \n",
       "8093           FDR12    12.852244          Regular         0.031382   \n",
       "8094           NCN43    12.150000          Low Fat         0.011314   \n",
       "8095           NCD54    12.852244          Low Fat         0.050791   \n",
       "\n",
       "                  Item_Type  Item_MRP Outlet_Identifier  \\\n",
       "0              Frozen Foods  261.6594            OUT018   \n",
       "1              Frozen Foods  122.4098            OUT027   \n",
       "2                    Canned   83.3934            OUT017   \n",
       "3                    Canned  112.1886            OUT046   \n",
       "4                    Canned  216.5824            OUT045   \n",
       "...                     ...       ...               ...   \n",
       "8091              Breakfast  183.0292            OUT027   \n",
       "8092  Fruits and Vegetables   49.7692            OUT045   \n",
       "8093           Baking Goods  171.3764            OUT027   \n",
       "8094                 Others  122.9730            OUT010   \n",
       "8095              Household  142.7786            OUT019   \n",
       "\n",
       "      Outlet_Establishment_Year Outlet_Size Outlet_Location_Type  \\\n",
       "0                          2009      Medium               Tier 3   \n",
       "1                          1985      Medium               Tier 3   \n",
       "2                          2007      Medium               Tier 2   \n",
       "3                          1997       Small               Tier 1   \n",
       "4                          2002      Medium               Tier 2   \n",
       "...                         ...         ...                  ...   \n",
       "8091                       1985      Medium               Tier 3   \n",
       "8092                       2002      Medium               Tier 2   \n",
       "8093                       1985      Medium               Tier 3   \n",
       "8094                       1998      Medium               Tier 3   \n",
       "8095                       1985       Small               Tier 1   \n",
       "\n",
       "            Outlet_Type  Item_Outlet_Sales   New_Item_Type  Outlet_Years  \n",
       "0     Supermarket Type2          3401.5722            Food             4  \n",
       "1     Supermarket Type3          3012.7450            Food            28  \n",
       "2     Supermarket Type1           491.3604            Food             6  \n",
       "3     Supermarket Type1           667.1316            Food            16  \n",
       "4     Supermarket Type1          5241.1776            Food            11  \n",
       "...                 ...                ...             ...           ...  \n",
       "8091  Supermarket Type3          8209.3140            Food            28  \n",
       "8092  Supermarket Type1           837.5764            Food            11  \n",
       "8093  Supermarket Type3          3091.9752            Food            28  \n",
       "8094      Grocery Store           123.1730  Non-Consumable            15  \n",
       "8095      Grocery Store           144.4786  Non-Consumable            28  \n",
       "\n",
       "[8096 rows x 14 columns]"
      ]
     },
     "execution_count": 34,
     "metadata": {},
     "output_type": "execute_result"
    }
   ],
   "source": [
    "train"
   ]
  },
  {
   "cell_type": "code",
   "execution_count": 35,
   "id": "e7f88b0f",
   "metadata": {},
   "outputs": [
    {
     "data": {
      "text/plain": [
       "<AxesSubplot:xlabel='Item_Weight', ylabel='Density'>"
      ]
     },
     "execution_count": 35,
     "metadata": {},
     "output_type": "execute_result"
    },
    {
     "data": {
      "image/png": "[encoded data removed]",
      "text/plain": [
       "<Figure size 432x288 with 1 Axes>"
      ]
     },
     "metadata": {
      "needs_background": "light"
     },
     "output_type": "display_data"
    }
   ],
   "source": [
    "sns.distplot(train['Item_Weight'])"
   ]
  },
  {
   "cell_type": "code",
   "execution_count": 36,
   "id": "fbc3f846",
   "metadata": {},
   "outputs": [
    {
     "data": {
      "text/plain": [
       "<AxesSubplot:xlabel='Item_Visibility', ylabel='Density'>"
      ]
     },
     "execution_count": 36,
     "metadata": {},
     "output_type": "execute_result"
    },
    {
     "data": {
      "image/png": "[encoded data removed]",
      "text/plain": [
       "<Figure size 432x288 with 1 Axes>"
      ]
     },
     "metadata": {
      "needs_background": "light"
     },
     "output_type": "display_data"
    }
   ],
   "source": [
    "sns.distplot(train['Item_Visibility'])"
   ]
  },
  {
   "cell_type": "code",
   "execution_count": 37,
   "id": "f01ad5c9",
   "metadata": {},
   "outputs": [
    {
     "data": {
      "text/plain": [
       "<AxesSubplot:xlabel='Item_MRP', ylabel='Density'>"
      ]
     },
     "execution_count": 37,
     "metadata": {},
     "output_type": "execute_result"
    },
    {
     "data": {
      "image/png": "[encoded data removed]",
      "text/plain": [
       "<Figure size 432x288 with 1 Axes>"
      ]
     },
     "metadata": {
      "needs_background": "light"
     },
     "output_type": "display_data"
    }
   ],
   "source": [
    "sns.distplot(train['Item_MRP'])"
   ]
  },
  {
   "cell_type": "code",
   "execution_count": 38,
   "id": "2fd1ebc6",
   "metadata": {},
   "outputs": [
    {
     "data": {
      "text/plain": [
       "<AxesSubplot:xlabel='Item_Outlet_Sales', ylabel='Density'>"
      ]
     },
     "execution_count": 38,
     "metadata": {},
     "output_type": "execute_result"
    },
    {
     "data": {
      "image/png": "[encoded data removed]",
      "text/plain": [
       "<Figure size 432x288 with 1 Axes>"
      ]
     },
     "metadata": {
      "needs_background": "light"
     },
     "output_type": "display_data"
    }
   ],
   "source": [
    "sns.distplot(train['Item_Outlet_Sales'])"
   ]
  },
  {
   "cell_type": "code",
   "execution_count": 39,
   "id": "beb8d418",
   "metadata": {},
   "outputs": [],
   "source": [
    "train['Item_Outlet_Sales'] = np.log(1 + train['Item_Outlet_Sales'])"
   ]
  },
  {
   "cell_type": "code",
   "execution_count": 40,
   "id": "a9056d4b",
   "metadata": {},
   "outputs": [
    {
     "data": {
      "text/plain": [
       "<AxesSubplot:xlabel='Item_Outlet_Sales', ylabel='Density'>"
      ]
     },
     "execution_count": 40,
     "metadata": {},
     "output_type": "execute_result"
    },
    {
     "data": {
      "image/png": "[encoded data removed]",
      "text/plain": [
       "<Figure size 432x288 with 1 Axes>"
      ]
     },
     "metadata": {
      "needs_background": "light"
     },
     "output_type": "display_data"
    }
   ],
   "source": [
    "sns.distplot(train['Item_Outlet_Sales'])"
   ]
  },
  {
   "cell_type": "markdown",
   "id": "7fd86e99",
   "metadata": {},
   "source": [
    "### Categorical Attributes "
   ]
  },
  {
   "cell_type": "code",
   "execution_count": 41,
   "id": "3bdb0ac1",
   "metadata": {},
   "outputs": [
    {
     "data": {
      "text/plain": [
       "<AxesSubplot:xlabel='Item_Fat_Content', ylabel='count'>"
      ]
     },
     "execution_count": 41,
     "metadata": {},
     "output_type": "execute_result"
    },
    {
     "data": {
      "image/png": "[encoded data removed]",
      "text/plain": [
       "<Figure size 432x288 with 1 Axes>"
      ]
     },
     "metadata": {
      "needs_background": "light"
     },
     "output_type": "display_data"
    }
   ],
   "source": [
    "sns.countplot(train['Item_Fat_Content'])"
   ]
  },
  {
   "cell_type": "code",
   "execution_count": 42,
   "id": "5f3dace9",
   "metadata": {},
   "outputs": [
    {
     "data": {
      "text/plain": [
       "[Text(0, 0, 'Frozen Foods'),\n",
       " Text(1, 0, 'Canned'),\n",
       " Text(2, 0, 'Starchy Foods'),\n",
       " Text(3, 0, 'Household'),\n",
       " Text(4, 0, 'Dairy'),\n",
       " Text(5, 0, 'Baking Goods'),\n",
       " Text(6, 0, 'Others'),\n",
       " Text(7, 0, 'Soft Drinks'),\n",
       " Text(8, 0, 'Fruits and Vegetables'),\n",
       " Text(9, 0, 'Health and Hygiene'),\n",
       " Text(10, 0, 'Snack Foods'),\n",
       " Text(11, 0, 'Meat'),\n",
       " Text(12, 0, 'Breads'),\n",
       " Text(13, 0, 'Breakfast'),\n",
       " Text(14, 0, 'Hard Drinks'),\n",
       " Text(15, 0, 'Seafood')]"
      ]
     },
     "execution_count": 42,
     "metadata": {},
     "output_type": "execute_result"
    },
    {
     "data": {
      "image/png": "[encoded data removed]",
      "text/plain": [
       "<Figure size 720x576 with 1 Axes>"
      ]
     },
     "metadata": {
      "needs_background": "light"
     },
     "output_type": "display_data"
    }
   ],
   "source": [
    "plt.figure(figsize=(10,8))\n",
    "l = list(train['Item_Type'].unique())\n",
    "chart = sns.countplot(train['Item_Type'])\n",
    "chart.set_xticklabels(labels = l, rotation= 90)"
   ]
  },
  {
   "cell_type": "code",
   "execution_count": 43,
   "id": "8779b4d9",
   "metadata": {},
   "outputs": [
    {
     "data": {
      "text/plain": [
       "[Text(0, 0, '2009'),\n",
       " Text(1, 0, '1985'),\n",
       " Text(2, 0, '2007'),\n",
       " Text(3, 0, '1997'),\n",
       " Text(4, 0, '2002'),\n",
       " Text(5, 0, '1999'),\n",
       " Text(6, 0, '2004'),\n",
       " Text(7, 0, '1998'),\n",
       " Text(8, 0, '1987')]"
      ]
     },
     "execution_count": 43,
     "metadata": {},
     "output_type": "execute_result"
    },
    {
     "data": {
      "image/png": "[encoded data removed]",
      "text/plain": [
       "<Figure size 720x576 with 1 Axes>"
      ]
     },
     "metadata": {
      "needs_background": "light"
     },
     "output_type": "display_data"
    }
   ],
   "source": [
    "plt.figure(figsize=(10,8))\n",
    "l = list(train['Outlet_Establishment_Year'].unique())\n",
    "chart = sns.countplot(train['Outlet_Establishment_Year'])\n",
    "chart.set_xticklabels(labels = l, rotation= 90)"
   ]
  },
  {
   "cell_type": "code",
   "execution_count": 44,
   "id": "4b734ef8",
   "metadata": {},
   "outputs": [
    {
     "data": {
      "text/plain": [
       "<AxesSubplot:xlabel='Outlet_Size', ylabel='count'>"
      ]
     },
     "execution_count": 44,
     "metadata": {},
     "output_type": "execute_result"
    },
    {
     "data": {
      "image/png": "[encoded data removed]",
      "text/plain": [
       "<Figure size 720x576 with 1 Axes>"
      ]
     },
     "metadata": {
      "needs_background": "light"
     },
     "output_type": "display_data"
    }
   ],
   "source": [
    "plt.figure(figsize=(10,8))\n",
    "sns.countplot(train['Outlet_Size'])"
   ]
  },
  {
   "cell_type": "code",
   "execution_count": 45,
   "id": "fc29809e",
   "metadata": {},
   "outputs": [
    {
     "data": {
      "text/plain": [
       "<AxesSubplot:xlabel='Outlet_Location_Type', ylabel='count'>"
      ]
     },
     "execution_count": 45,
     "metadata": {},
     "output_type": "execute_result"
    },
    {
     "data": {
      "image/png": "[encoded data removed]",
      "text/plain": [
       "<Figure size 720x576 with 1 Axes>"
      ]
     },
     "metadata": {
      "needs_background": "light"
     },
     "output_type": "display_data"
    }
   ],
   "source": [
    "plt.figure(figsize=(10,8))\n",
    "sns.countplot(train['Outlet_Location_Type'])"
   ]
  },
  {
   "cell_type": "code",
   "execution_count": 46,
   "id": "7ced6657",
   "metadata": {},
   "outputs": [
    {
     "data": {
      "text/plain": [
       "[Text(0, 0, 'Supermarket Type2'),\n",
       " Text(1, 0, 'Supermarket Type3'),\n",
       " Text(2, 0, 'Supermarket Type1'),\n",
       " Text(3, 0, 'Grocery Store')]"
      ]
     },
     "execution_count": 46,
     "metadata": {},
     "output_type": "execute_result"
    },
    {
     "data": {
      "image/png": "[encoded data removed]",
      "text/plain": [
       "<Figure size 720x576 with 1 Axes>"
      ]
     },
     "metadata": {
      "needs_background": "light"
     },
     "output_type": "display_data"
    }
   ],
   "source": [
    "plt.figure(figsize=(10,8))\n",
    "l = list(train['Outlet_Type'].unique())\n",
    "chart = sns.countplot(train['Outlet_Type'])\n",
    "chart.set_xticklabels(labels = l, rotation= 90)"
   ]
  },
  {
   "cell_type": "markdown",
   "id": "2239dc3d",
   "metadata": {},
   "source": [
    "## Correlation Matrix"
   ]
  },
  {
   "cell_type": "code",
   "execution_count": 47,
   "id": "cf10233f",
   "metadata": {},
   "outputs": [
    {
     "data": {
      "text/plain": [
       "<AxesSubplot:>"
      ]
     },
     "execution_count": 47,
     "metadata": {},
     "output_type": "execute_result"
    },
    {
     "data": {
      "image/png": "[encoded data removed]",
      "text/plain": [
       "<Figure size 1008x576 with 2 Axes>"
      ]
     },
     "metadata": {
      "needs_background": "light"
     },
     "output_type": "display_data"
    }
   ],
   "source": [
    "corr = train.corr()\n",
    "plt.figure(figsize = (14, 8))\n",
    "sns.heatmap(corr, annot = True, cmap = 'coolwarm')"
   ]
  },
  {
   "cell_type": "markdown",
   "id": "de2093df",
   "metadata": {},
   "source": [
    "## Encoding"
   ]
  },
  {
   "cell_type": "markdown",
   "id": "800ee052",
   "metadata": {},
   "source": [
    "label encoding "
   ]
  },
  {
   "cell_type": "code",
   "execution_count": 48,
   "id": "d253542f",
   "metadata": {},
   "outputs": [
    {
     "name": "stdout",
     "output_type": "stream",
     "text": [
      "<class 'pandas.core.frame.DataFrame'>\n",
      "RangeIndex: 8096 entries, 0 to 8095\n",
      "Data columns (total 14 columns):\n",
      " #   Column                     Non-Null Count  Dtype  \n",
      "---  ------                     --------------  -----  \n",
      " 0   Item_Identifier            8096 non-null   object \n",
      " 1   Item_Weight                8096 non-null   float64\n",
      " 2   Item_Fat_Content           8096 non-null   object \n",
      " 3   Item_Visibility            8096 non-null   float64\n",
      " 4   Item_Type                  8096 non-null   object \n",
      " 5   Item_MRP                   8096 non-null   float64\n",
      " 6   Outlet_Identifier          8096 non-null   object \n",
      " 7   Outlet_Establishment_Year  8096 non-null   int64  \n",
      " 8   Outlet_Size                8096 non-null   object \n",
      " 9   Outlet_Location_Type       8096 non-null   object \n",
      " 10  Outlet_Type                8096 non-null   object \n",
      " 11  Item_Outlet_Sales          8096 non-null   float64\n",
      " 12  New_Item_Type              8096 non-null   object \n",
      " 13  Outlet_Years               8096 non-null   int64  \n",
      "dtypes: float64(4), int64(2), object(8)\n",
      "memory usage: 885.6+ KB\n"
     ]
    }
   ],
   "source": [
    "train.info()"
   ]
  },
  {
   "cell_type": "code",
   "execution_count": 49,
   "id": "23c84b55",
   "metadata": {},
   "outputs": [],
   "source": [
    "from sklearn.preprocessing import LabelEncoder\n",
    "le = LabelEncoder()\n",
    "train['Outlet'] = le.fit_transform(train['Outlet_Identifier'])\n",
    "cat_col = ['Item_Fat_Content', 'Item_Type', 'Outlet_Size', 'Outlet_Location_Type', 'Outlet_Type','New_Item_Type']\n",
    "for col in cat_col:\n",
    "    train[col] = le.fit_transform(train[col])"
   ]
  },
  {
   "cell_type": "markdown",
   "id": "8d3c5103",
   "metadata": {},
   "source": [
    "One hot Encoding"
   ]
  },
  {
   "cell_type": "code",
   "execution_count": 50,
   "id": "7dbaecb7",
   "metadata": {},
   "outputs": [
    {
     "data": {
      "text/html": [
       "<div>\n",
       "<style scoped>\n",
       "    .dataframe tbody tr th:only-of-type {\n",
       "        vertical-align: middle;\n",
       "    }\n",
       "\n",
       "    .dataframe tbody tr th {\n",
       "        vertical-align: top;\n",
       "    }\n",
       "\n",
       "    .dataframe thead th {\n",
       "        text-align: right;\n",
       "    }\n",
       "</style>\n",
       "<table border=\"1\" class=\"dataframe\">\n",
       "  <thead>\n",
       "    <tr style=\"text-align: right;\">\n",
       "      <th></th>\n",
       "      <th>Item_Identifier</th>\n",
       "      <th>Item_Weight</th>\n",
       "      <th>Item_Visibility</th>\n",
       "      <th>Item_Type</th>\n",
       "      <th>Item_MRP</th>\n",
       "      <th>Outlet_Identifier</th>\n",
       "      <th>Outlet_Establishment_Year</th>\n",
       "      <th>Item_Outlet_Sales</th>\n",
       "      <th>Outlet_Years</th>\n",
       "      <th>Outlet</th>\n",
       "      <th>...</th>\n",
       "      <th>Outlet_Location_Type_0</th>\n",
       "      <th>Outlet_Location_Type_1</th>\n",
       "      <th>Outlet_Location_Type_2</th>\n",
       "      <th>Outlet_Type_0</th>\n",
       "      <th>Outlet_Type_1</th>\n",
       "      <th>Outlet_Type_2</th>\n",
       "      <th>Outlet_Type_3</th>\n",
       "      <th>New_Item_Type_0</th>\n",
       "      <th>New_Item_Type_1</th>\n",
       "      <th>New_Item_Type_2</th>\n",
       "    </tr>\n",
       "  </thead>\n",
       "  <tbody>\n",
       "    <tr>\n",
       "      <th>0</th>\n",
       "      <td>FDJ41</td>\n",
       "      <td>6.850000</td>\n",
       "      <td>0.022976</td>\n",
       "      <td>5</td>\n",
       "      <td>261.6594</td>\n",
       "      <td>OUT018</td>\n",
       "      <td>2009</td>\n",
       "      <td>8.132287</td>\n",
       "      <td>4</td>\n",
       "      <td>3</td>\n",
       "      <td>...</td>\n",
       "      <td>0</td>\n",
       "      <td>0</td>\n",
       "      <td>1</td>\n",
       "      <td>0</td>\n",
       "      <td>0</td>\n",
       "      <td>1</td>\n",
       "      <td>0</td>\n",
       "      <td>0</td>\n",
       "      <td>1</td>\n",
       "      <td>0</td>\n",
       "    </tr>\n",
       "    <tr>\n",
       "      <th>1</th>\n",
       "      <td>FDD05</td>\n",
       "      <td>12.852244</td>\n",
       "      <td>0.016531</td>\n",
       "      <td>5</td>\n",
       "      <td>122.4098</td>\n",
       "      <td>OUT027</td>\n",
       "      <td>1985</td>\n",
       "      <td>8.010939</td>\n",
       "      <td>28</td>\n",
       "      <td>5</td>\n",
       "      <td>...</td>\n",
       "      <td>0</td>\n",
       "      <td>0</td>\n",
       "      <td>1</td>\n",
       "      <td>0</td>\n",
       "      <td>0</td>\n",
       "      <td>0</td>\n",
       "      <td>1</td>\n",
       "      <td>0</td>\n",
       "      <td>1</td>\n",
       "      <td>0</td>\n",
       "    </tr>\n",
       "    <tr>\n",
       "      <th>2</th>\n",
       "      <td>FDK14</td>\n",
       "      <td>6.980000</td>\n",
       "      <td>0.041338</td>\n",
       "      <td>3</td>\n",
       "      <td>83.3934</td>\n",
       "      <td>OUT017</td>\n",
       "      <td>2007</td>\n",
       "      <td>6.199211</td>\n",
       "      <td>6</td>\n",
       "      <td>2</td>\n",
       "      <td>...</td>\n",
       "      <td>0</td>\n",
       "      <td>1</td>\n",
       "      <td>0</td>\n",
       "      <td>0</td>\n",
       "      <td>1</td>\n",
       "      <td>0</td>\n",
       "      <td>0</td>\n",
       "      <td>0</td>\n",
       "      <td>1</td>\n",
       "      <td>0</td>\n",
       "    </tr>\n",
       "    <tr>\n",
       "      <th>3</th>\n",
       "      <td>FDC26</td>\n",
       "      <td>10.195000</td>\n",
       "      <td>0.126383</td>\n",
       "      <td>3</td>\n",
       "      <td>112.1886</td>\n",
       "      <td>OUT046</td>\n",
       "      <td>1997</td>\n",
       "      <td>6.504485</td>\n",
       "      <td>16</td>\n",
       "      <td>8</td>\n",
       "      <td>...</td>\n",
       "      <td>1</td>\n",
       "      <td>0</td>\n",
       "      <td>0</td>\n",
       "      <td>0</td>\n",
       "      <td>1</td>\n",
       "      <td>0</td>\n",
       "      <td>0</td>\n",
       "      <td>0</td>\n",
       "      <td>1</td>\n",
       "      <td>0</td>\n",
       "    </tr>\n",
       "    <tr>\n",
       "      <th>4</th>\n",
       "      <td>FDP25</td>\n",
       "      <td>15.200000</td>\n",
       "      <td>0.021251</td>\n",
       "      <td>3</td>\n",
       "      <td>216.5824</td>\n",
       "      <td>OUT045</td>\n",
       "      <td>2002</td>\n",
       "      <td>8.564492</td>\n",
       "      <td>11</td>\n",
       "      <td>7</td>\n",
       "      <td>...</td>\n",
       "      <td>0</td>\n",
       "      <td>1</td>\n",
       "      <td>0</td>\n",
       "      <td>0</td>\n",
       "      <td>1</td>\n",
       "      <td>0</td>\n",
       "      <td>0</td>\n",
       "      <td>0</td>\n",
       "      <td>1</td>\n",
       "      <td>0</td>\n",
       "    </tr>\n",
       "  </tbody>\n",
       "</table>\n",
       "<p>5 rows × 25 columns</p>\n",
       "</div>"
      ],
      "text/plain": [
       "  Item_Identifier  Item_Weight  Item_Visibility  Item_Type  Item_MRP  \\\n",
       "0           FDJ41     6.850000         0.022976          5  261.6594   \n",
       "1           FDD05    12.852244         0.016531          5  122.4098   \n",
       "2           FDK14     6.980000         0.041338          3   83.3934   \n",
       "3           FDC26    10.195000         0.126383          3  112.1886   \n",
       "4           FDP25    15.200000         0.021251          3  216.5824   \n",
       "\n",
       "  Outlet_Identifier  Outlet_Establishment_Year  Item_Outlet_Sales  \\\n",
       "0            OUT018                       2009           8.132287   \n",
       "1            OUT027                       1985           8.010939   \n",
       "2            OUT017                       2007           6.199211   \n",
       "3            OUT046                       1997           6.504485   \n",
       "4            OUT045                       2002           8.564492   \n",
       "\n",
       "   Outlet_Years  Outlet  ...  Outlet_Location_Type_0  Outlet_Location_Type_1  \\\n",
       "0             4       3  ...                       0                       0   \n",
       "1            28       5  ...                       0                       0   \n",
       "2             6       2  ...                       0                       1   \n",
       "3            16       8  ...                       1                       0   \n",
       "4            11       7  ...                       0                       1   \n",
       "\n",
       "   Outlet_Location_Type_2  Outlet_Type_0  Outlet_Type_1  Outlet_Type_2  \\\n",
       "0                       1              0              0              1   \n",
       "1                       1              0              0              0   \n",
       "2                       0              0              1              0   \n",
       "3                       0              0              1              0   \n",
       "4                       0              0              1              0   \n",
       "\n",
       "   Outlet_Type_3  New_Item_Type_0  New_Item_Type_1  New_Item_Type_2  \n",
       "0              0                0                1                0  \n",
       "1              1                0                1                0  \n",
       "2              0                0                1                0  \n",
       "3              0                0                1                0  \n",
       "4              0                0                1                0  \n",
       "\n",
       "[5 rows x 25 columns]"
      ]
     },
     "execution_count": 50,
     "metadata": {},
     "output_type": "execute_result"
    }
   ],
   "source": [
    "train = pd.get_dummies(train, columns = ['Item_Fat_Content', 'Outlet_Size', 'Outlet_Location_Type', 'Outlet_Type','New_Item_Type'])\n",
    "train.head()"
   ]
  },
  {
   "cell_type": "markdown",
   "id": "799f4d08",
   "metadata": {},
   "source": [
    "<h3 style=\"color: red\"> Detecting Outliers"
   ]
  },
  {
   "cell_type": "code",
   "execution_count": 51,
   "id": "6f31ba89",
   "metadata": {},
   "outputs": [],
   "source": [
    "def outlierDetector(df, feature):\n",
    "    plt.figure(figsize = (10,5))\n",
    "    sns.boxplot(x = df[feature])"
   ]
  },
  {
   "cell_type": "code",
   "execution_count": 52,
   "id": "7d60b63c",
   "metadata": {},
   "outputs": [
    {
     "data": {
      "image/png": "[encoded data removed]",
      "text/plain": [
       "<Figure size 720x360 with 1 Axes>"
      ]
     },
     "metadata": {
      "needs_background": "light"
     },
     "output_type": "display_data"
    }
   ],
   "source": [
    "outlierDetector(train, 'Item_Weight')"
   ]
  },
  {
   "cell_type": "code",
   "execution_count": 53,
   "id": "4f27666b",
   "metadata": {},
   "outputs": [
    {
     "data": {
      "image/png": "[encoded data removed]",
      "text/plain": [
       "<Figure size 720x360 with 1 Axes>"
      ]
     },
     "metadata": {
      "needs_background": "light"
     },
     "output_type": "display_data"
    }
   ],
   "source": [
    "outlierDetector(train, 'Item_Visibility')"
   ]
  },
  {
   "cell_type": "code",
   "execution_count": null,
   "id": "adba9cb9",
   "metadata": {},
   "outputs": [],
   "source": []
  },
  {
   "cell_type": "code",
   "execution_count": 54,
   "id": "a556f892",
   "metadata": {},
   "outputs": [
    {
     "data": {
      "image/png": "[encoded data removed]",
      "text/plain": [
       "<Figure size 720x360 with 1 Axes>"
      ]
     },
     "metadata": {
      "needs_background": "light"
     },
     "output_type": "display_data"
    }
   ],
   "source": [
    "outlierDetector(train, 'Item_MRP')"
   ]
  },
  {
   "cell_type": "code",
   "execution_count": 55,
   "id": "4a733bdb",
   "metadata": {},
   "outputs": [
    {
     "data": {
      "image/png": "[encoded data removed]",
      "text/plain": [
       "<Figure size 720x360 with 1 Axes>"
      ]
     },
     "metadata": {
      "needs_background": "light"
     },
     "output_type": "display_data"
    }
   ],
   "source": [
    "outlierDetector(train, 'Item_Outlet_Sales')"
   ]
  },
  {
   "cell_type": "markdown",
   "id": "a167b5f3",
   "metadata": {},
   "source": [
    "<h3 style=\"color: green\"> Removing outliers"
   ]
  },
  {
   "cell_type": "code",
   "execution_count": 56,
   "id": "e530567d",
   "metadata": {},
   "outputs": [],
   "source": [
    "def outlierTreater(df,feature,quant):\n",
    "    min_threshold, max_threshold = df[feature].quantile([quant[0],quant[1]])\n",
    "    print('1. Minimum Threshold: ', min_threshold, '\\n2. Maximum Threshold: ', max_threshold)\n",
    "    \n",
    "    return df[(df[feature]<max_threshold) & (df[feature]>min_threshold)]"
   ]
  },
  {
   "cell_type": "code",
   "execution_count": 57,
   "id": "54280eeb",
   "metadata": {},
   "outputs": [
    {
     "name": "stdout",
     "output_type": "stream",
     "text": [
      "1. Minimum Threshold:  0.013263340999999998 \n",
      "2. Maximum Threshold:  0.16332053125\n"
     ]
    }
   ],
   "source": [
    "train_no_outlier = outlierTreater(train, 'Item_Visibility', [0.05,0.95])"
   ]
  },
  {
   "cell_type": "code",
   "execution_count": 59,
   "id": "46b89f10",
   "metadata": {},
   "outputs": [
    {
     "data": {
      "image/png": "[encoded data removed]",
      "text/plain": [
       "<Figure size 720x360 with 1 Axes>"
      ]
     },
     "metadata": {
      "needs_background": "light"
     },
     "output_type": "display_data"
    }
   ],
   "source": [
    "outlierDetector(train_no_outlier, 'Item_Visibility')"
   ]
  },
  {
   "cell_type": "code",
   "execution_count": 61,
   "id": "4ecf64a9",
   "metadata": {},
   "outputs": [
    {
     "name": "stdout",
     "output_type": "stream",
     "text": [
      "1. Minimum Threshold:  5.842247344312063 \n",
      "2. Maximum Threshold:  8.427207082875949\n"
     ]
    }
   ],
   "source": [
    "train_no_outlier = outlierTreater(train, 'Item_Outlet_Sales', [0.1, 0.9])"
   ]
  },
  {
   "cell_type": "code",
   "execution_count": 62,
   "id": "7cc17c14",
   "metadata": {},
   "outputs": [
    {
     "data": {
      "image/png": "[encoded data removed]",
      "text/plain": [
       "<Figure size 720x360 with 1 Axes>"
      ]
     },
     "metadata": {
      "needs_background": "light"
     },
     "output_type": "display_data"
    }
   ],
   "source": [
    "outlierDetector(train_no_outlier, 'Item_Outlet_Sales')"
   ]
  },
  {
   "cell_type": "code",
   "execution_count": null,
   "id": "d8a9502a",
   "metadata": {},
   "outputs": [],
   "source": []
  },
  {
   "cell_type": "code",
   "execution_count": null,
   "id": "cd8f7284",
   "metadata": {},
   "outputs": [],
   "source": []
  },
  {
   "cell_type": "markdown",
   "id": "511aa59f",
   "metadata": {},
   "source": [
    "## Input Split"
   ]
  },
  {
   "cell_type": "code",
   "execution_count": 63,
   "id": "508bdf3f",
   "metadata": {},
   "outputs": [],
   "source": [
    "X = train_no_outlier.drop(columns = ['Outlet_Establishment_Year', 'Item_Identifier', 'Outlet_Identifier', 'Item_Outlet_Sales'])\n",
    "y = train_no_outlier['Item_Outlet_Sales']"
   ]
  },
  {
   "cell_type": "markdown",
   "id": "4d853383",
   "metadata": {},
   "source": [
    "<h3 style='color: blue'> Creating a function for model training"
   ]
  },
  {
   "cell_type": "code",
   "execution_count": 64,
   "id": "19bc99e5",
   "metadata": {},
   "outputs": [],
   "source": [
    "from sklearn.model_selection import cross_val_score\n",
    "from sklearn.metrics import mean_squared_error\n",
    "def train(model, X, y):\n",
    "    \n",
    "    # training the model\n",
    "    model.fit(X,y)\n",
    "    \n",
    "    # predict the train set\n",
    "    predictions = model.predict(X)\n",
    "    \n",
    "    # cross validation \n",
    "    cv_score = cross_val_score(model, X, y, scoring = 'neg_mean_squared_error')\n",
    "    cv_score = np.abs(np.mean(cv_score))\n",
    "    print('Model Report')\n",
    "    print('Mean Squared Error: ', mean_squared_error(y,predictions))\n",
    "    print('Cross validation Score: ', cv_score)"
   ]
  },
  {
   "cell_type": "markdown",
   "id": "0e498c1f",
   "metadata": {},
   "source": [
    "## Linear regression"
   ]
  },
  {
   "cell_type": "code",
   "execution_count": 70,
   "id": "38e7708d",
   "metadata": {},
   "outputs": [
    {
     "name": "stdout",
     "output_type": "stream",
     "text": [
      "Model Report\n",
      "Mean Squared Error:  0.21526399343633507\n",
      "Cross validation Score:  0.2169355888641286\n"
     ]
    },
    {
     "data": {
      "text/plain": [
       "<AxesSubplot:title={'center':'Model Coefficients'}>"
      ]
     },
     "execution_count": 70,
     "metadata": {},
     "output_type": "execute_result"
    },
    {
     "data": {
      "image/png": "[encoded data removed]",
      "text/plain": [
       "<Figure size 576x288 with 1 Axes>"
      ]
     },
     "metadata": {
      "needs_background": "light"
     },
     "output_type": "display_data"
    }
   ],
   "source": [
    "from sklearn.linear_model import LinearRegression, Lasso, Ridge\n",
    "model = LinearRegression(normalize=True)\n",
    "train(model, X, y)\n",
    "coeff = pd.Series(model.coef_, X.columns).sort_values()\n",
    "coeff.plot(kind = 'bar', title = 'Model Coefficients', figsize =(8, 4))"
   ]
  },
  {
   "cell_type": "markdown",
   "id": "35568af2",
   "metadata": {},
   "source": [
    "## Ridge"
   ]
  },
  {
   "cell_type": "code",
   "execution_count": 71,
   "id": "24d18464",
   "metadata": {},
   "outputs": [
    {
     "name": "stdout",
     "output_type": "stream",
     "text": [
      "Model Report\n",
      "Mean Squared Error:  0.27696676880581683\n",
      "Cross validation Score:  0.2777463334259679\n"
     ]
    },
    {
     "data": {
      "text/plain": [
       "<AxesSubplot:title={'center':'Model Coefficients'}>"
      ]
     },
     "execution_count": 71,
     "metadata": {},
     "output_type": "execute_result"
    },
    {
     "data": {
      "image/png": "[encoded data removed]",
      "text/plain": [
       "<Figure size 576x288 with 1 Axes>"
      ]
     },
     "metadata": {
      "needs_background": "light"
     },
     "output_type": "display_data"
    }
   ],
   "source": [
    "model = Ridge(normalize=True)\n",
    "train(model, X, y)\n",
    "coeff = pd.Series(model.coef_, X.columns).sort_values()\n",
    "coeff.plot(kind = 'bar', title = 'Model Coefficients', figsize =(8, 4))"
   ]
  },
  {
   "cell_type": "markdown",
   "id": "4d095a50",
   "metadata": {},
   "source": [
    "## Lasso"
   ]
  },
  {
   "cell_type": "code",
   "execution_count": 72,
   "id": "6fb644fb",
   "metadata": {},
   "outputs": [
    {
     "name": "stdout",
     "output_type": "stream",
     "text": [
      "Model Report\n",
      "Mean Squared Error:  0.34247683837871895\n",
      "Cross validation Score:  0.34263835152552186\n"
     ]
    },
    {
     "data": {
      "text/plain": [
       "<AxesSubplot:title={'center':'Model Coefficients'}>"
      ]
     },
     "execution_count": 72,
     "metadata": {},
     "output_type": "execute_result"
    },
    {
     "data": {
      "image/png": "[encoded data removed]",
      "text/plain": [
       "<Figure size 576x288 with 1 Axes>"
      ]
     },
     "metadata": {
      "needs_background": "light"
     },
     "output_type": "display_data"
    }
   ],
   "source": [
    "model = Lasso()\n",
    "train(model, X, y)\n",
    "coeff = pd.Series(model.coef_, X.columns).sort_values()\n",
    "coeff.plot(kind = 'bar', title = 'Model Coefficients', figsize =(8, 4))"
   ]
  },
  {
   "cell_type": "code",
   "execution_count": 73,
   "id": "5b2d3813",
   "metadata": {},
   "outputs": [
    {
     "name": "stdout",
     "output_type": "stream",
     "text": [
      "Model Report\n",
      "Mean Squared Error:  7.3099080020479855e-34\n",
      "Cross validation Score:  0.4071557527766587\n"
     ]
    },
    {
     "data": {
      "text/plain": [
       "<AxesSubplot:title={'center':'Feature Importance'}>"
      ]
     },
     "execution_count": 73,
     "metadata": {},
     "output_type": "execute_result"
    },
    {
     "data": {
      "image/png": "[encoded data removed]",
      "text/plain": [
       "<Figure size 576x288 with 1 Axes>"
      ]
     },
     "metadata": {
      "needs_background": "light"
     },
     "output_type": "display_data"
    }
   ],
   "source": [
    "from sklearn.tree import DecisionTreeRegressor\n",
    "model = DecisionTreeRegressor()\n",
    "train(model, X, y)\n",
    "coeff = pd.Series(model.feature_importances_, X.columns).sort_values(ascending=False)\n",
    "coeff.plot(kind = 'bar', title = 'Feature Importance', figsize =(8, 4))"
   ]
  },
  {
   "cell_type": "markdown",
   "id": "72d0b4a9",
   "metadata": {},
   "source": [
    "## Random Forest"
   ]
  },
  {
   "cell_type": "code",
   "execution_count": 74,
   "id": "486e75b3",
   "metadata": {},
   "outputs": [
    {
     "name": "stdout",
     "output_type": "stream",
     "text": [
      "Model Report\n",
      "Mean Squared Error:  0.030088078320246972\n",
      "Cross validation Score:  0.2160771352808608\n"
     ]
    },
    {
     "data": {
      "text/plain": [
       "<AxesSubplot:title={'center':'Feature Importance'}>"
      ]
     },
     "execution_count": 74,
     "metadata": {},
     "output_type": "execute_result"
    },
    {
     "data": {
      "image/png": "[encoded data removed]",
      "text/plain": [
       "<Figure size 576x288 with 1 Axes>"
      ]
     },
     "metadata": {
      "needs_background": "light"
     },
     "output_type": "display_data"
    }
   ],
   "source": [
    "from sklearn.ensemble import RandomForestRegressor\n",
    "model = RandomForestRegressor()\n",
    "train(model, X, y)\n",
    "coeff = pd.Series(model.feature_importances_, X.columns).sort_values(ascending=False)\n",
    "coeff.plot(kind = 'bar', title = 'Feature Importance', figsize =(8, 4))"
   ]
  },
  {
   "cell_type": "markdown",
   "id": "c527d639",
   "metadata": {},
   "source": [
    "### Extra Tree "
   ]
  },
  {
   "cell_type": "code",
   "execution_count": 75,
   "id": "e3452c48",
   "metadata": {},
   "outputs": [
    {
     "name": "stdout",
     "output_type": "stream",
     "text": [
      "Model Report\n",
      "Mean Squared Error:  1.0233530073827085e-28\n",
      "Cross validation Score:  0.22898028887030053\n"
     ]
    },
    {
     "data": {
      "text/plain": [
       "<AxesSubplot:title={'center':'Feature Importance'}>"
      ]
     },
     "execution_count": 75,
     "metadata": {},
     "output_type": "execute_result"
    },
    {
     "data": {
      "image/png": "[encoded data removed]",
      "text/plain": [
       "<Figure size 576x288 with 1 Axes>"
      ]
     },
     "metadata": {
      "needs_background": "light"
     },
     "output_type": "display_data"
    }
   ],
   "source": [
    "from sklearn.ensemble import ExtraTreesRegressor\n",
    "model = ExtraTreesRegressor()\n",
    "train(model, X, y)\n",
    "coeff = pd.Series(model.feature_importances_, X.columns).sort_values(ascending=False)\n",
    "coeff.plot(kind = 'bar', title = 'Feature Importance', figsize =(8, 4))"
   ]
  },
  {
   "cell_type": "code",
   "execution_count": 76,
   "id": "9c9bed33",
   "metadata": {},
   "outputs": [
    {
     "name": "stdout",
     "output_type": "stream",
     "text": [
      "Model Report\n",
      "Mean Squared Error:  0.21554355466716196\n",
      "Cross validation Score:  0.22366197240392763\n"
     ]
    },
    {
     "data": {
      "text/plain": [
       "<AxesSubplot:title={'center':'Feature Importance'}>"
      ]
     },
     "execution_count": 76,
     "metadata": {},
     "output_type": "execute_result"
    },
    {
     "data": {
      "image/png": "[encoded data removed]",
      "text/plain": [
       "<Figure size 576x288 with 1 Axes>"
      ]
     },
     "metadata": {
      "needs_background": "light"
     },
     "output_type": "display_data"
    }
   ],
   "source": [
    "from sklearn.ensemble import AdaBoostRegressor\n",
    "model = AdaBoostRegressor()\n",
    "train(model, X, y)\n",
    "coeff = pd.Series(model.feature_importances_, X.columns).sort_values(ascending=False)\n",
    "coeff.plot(kind = 'bar', title = 'Feature Importance', figsize =(8, 4))"
   ]
  },
  {
   "cell_type": "markdown",
   "id": "d8f3c1f1",
   "metadata": {},
   "source": [
    "## Creating a data frame of Model Predictions"
   ]
  },
  {
   "cell_type": "code",
   "execution_count": 77,
   "id": "97270a9e",
   "metadata": {},
   "outputs": [],
   "source": [
    "model_used = ['Linear Regression', 'Lasso', 'Ridge', 'Decision Tree Regressor', 'Random Forest', \n",
    "              'EXtra Tree Regressor', 'AdaBoostRegressor']\n",
    "mse = [0.215, 0.342, 0.277, 7.310, 0.030, 1.023, 0.216]\n",
    "cvs = [0.216, 0.343, 0.277, 0.407, 0.216, 0.228, 0.224]"
   ]
  },
  {
   "cell_type": "code",
   "execution_count": 78,
   "id": "80d1d4e9",
   "metadata": {},
   "outputs": [
    {
     "data": {
      "text/html": [
       "<div>\n",
       "<style scoped>\n",
       "    .dataframe tbody tr th:only-of-type {\n",
       "        vertical-align: middle;\n",
       "    }\n",
       "\n",
       "    .dataframe tbody tr th {\n",
       "        vertical-align: top;\n",
       "    }\n",
       "\n",
       "    .dataframe thead th {\n",
       "        text-align: right;\n",
       "    }\n",
       "</style>\n",
       "<table border=\"1\" class=\"dataframe\">\n",
       "  <thead>\n",
       "    <tr style=\"text-align: right;\">\n",
       "      <th></th>\n",
       "      <th>Model</th>\n",
       "      <th>MSE</th>\n",
       "      <th>Cross Validation Score</th>\n",
       "    </tr>\n",
       "  </thead>\n",
       "  <tbody>\n",
       "    <tr>\n",
       "      <th>0</th>\n",
       "      <td>Linear Regression</td>\n",
       "      <td>0.215</td>\n",
       "      <td>0.216</td>\n",
       "    </tr>\n",
       "    <tr>\n",
       "      <th>1</th>\n",
       "      <td>Lasso</td>\n",
       "      <td>0.342</td>\n",
       "      <td>0.343</td>\n",
       "    </tr>\n",
       "    <tr>\n",
       "      <th>2</th>\n",
       "      <td>Ridge</td>\n",
       "      <td>0.277</td>\n",
       "      <td>0.277</td>\n",
       "    </tr>\n",
       "    <tr>\n",
       "      <th>3</th>\n",
       "      <td>Decision Tree Regressor</td>\n",
       "      <td>7.310</td>\n",
       "      <td>0.407</td>\n",
       "    </tr>\n",
       "    <tr>\n",
       "      <th>4</th>\n",
       "      <td>Random Forest</td>\n",
       "      <td>0.030</td>\n",
       "      <td>0.216</td>\n",
       "    </tr>\n",
       "    <tr>\n",
       "      <th>5</th>\n",
       "      <td>EXtra Tree Regressor</td>\n",
       "      <td>1.023</td>\n",
       "      <td>0.228</td>\n",
       "    </tr>\n",
       "    <tr>\n",
       "      <th>6</th>\n",
       "      <td>AdaBoostRegressor</td>\n",
       "      <td>0.216</td>\n",
       "      <td>0.224</td>\n",
       "    </tr>\n",
       "  </tbody>\n",
       "</table>\n",
       "</div>"
      ],
      "text/plain": [
       "                     Model    MSE  Cross Validation Score\n",
       "0        Linear Regression  0.215                   0.216\n",
       "1                    Lasso  0.342                   0.343\n",
       "2                    Ridge  0.277                   0.277\n",
       "3  Decision Tree Regressor  7.310                   0.407\n",
       "4            Random Forest  0.030                   0.216\n",
       "5     EXtra Tree Regressor  1.023                   0.228\n",
       "6        AdaBoostRegressor  0.216                   0.224"
      ]
     },
     "execution_count": 78,
     "metadata": {},
     "output_type": "execute_result"
    }
   ],
   "source": [
    "d = {'Model': model_used, 'MSE': mse, 'Cross Validation Score': cvs}\n",
    "pd.DataFrame(data = d)"
   ]
  },
  {
   "cell_type": "markdown",
   "id": "82663caa",
   "metadata": {},
   "source": [
    "<h3> The Best 3 models </h3>\n",
    "\n",
    "<ul>\n",
    "    <li> Random Forest</li>\n",
    "    <li> AdaBoostRegressor</li>\n",
    "    <li> Random Forest</li>\n",
    "</ul>"
   ]
  },
  {
   "cell_type": "code",
   "execution_count": null,
   "id": "a0403010",
   "metadata": {},
   "outputs": [],
   "source": []
  },
  {
   "cell_type": "code",
   "execution_count": null,
   "id": "06c4696f",
   "metadata": {},
   "outputs": [],
   "source": []
  },
  {
   "cell_type": "code",
   "execution_count": null,
   "id": "48a59da6",
   "metadata": {},
   "outputs": [],
   "source": []
  },
  {
   "cell_type": "markdown",
   "id": "fc4977b0",
   "metadata": {},
   "source": [
    "### Hyperparameter tuning"
   ]
  },
  {
   "cell_type": "code",
   "execution_count": null,
   "id": "ee80fd48",
   "metadata": {},
   "outputs": [],
   "source": []
  }
 ],
 "metadata": {
  "kernelspec": {
   "display_name": "Python 3",
   "language": "python",
   "name": "python3"
  },
  "language_info": {
   "codemirror_mode": {
    "name": "ipython",
    "version": 3
   },
   "file_extension": ".py",
   "mimetype": "text/x-python",
   "name": "python",
   "nbconvert_exporter": "python",
   "pygments_lexer": "ipython3",
   "version": "3.7.10"
  }
 },
 "nbformat": 4,
 "nbformat_minor": 5
}
